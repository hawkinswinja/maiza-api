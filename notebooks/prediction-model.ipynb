{
 "cells": [
  {
   "cell_type": "code",
   "execution_count": 14,
   "id": "5fa64f5b-b216-48eb-9987-60a89aa1836d",
   "metadata": {},
   "outputs": [],
   "source": [
    "from tensorflow.keras.models import load_model, model_from_json\n",
    "from tensorflow.keras.preprocessing import image\n",
    "import numpy as np\n",
    "import tensorflow as tf\n",
    "# Load the entire model back into memory\n",
    "model = load_model('../models/model_v5.keras')\n",
    "\n",
    "# Display the model architecture\n",
    "# model.summary()"
   ]
  },
  {
   "cell_type": "code",
   "execution_count": 8,
   "id": "1b77f62d-50b3-4290-9650-11cc67b6b47f",
   "metadata": {},
   "outputs": [],
   "source": [
    "# Save model\n",
    "model_json = model.to_json()\n",
    "with open(\"model_v5.json\", \"w\") as json_file:\n",
    "    json_file.write(model_json)\n",
    "model.save_weights(\"model_v5.weights.h5\")\n",
    "\n",
    "##### Load the model\n",
    "\n",
    "with open('model_v5.json','r') as f:\n",
    "    json = f.read()\n",
    "model = model_from_json(json)\n",
    "model.load_weights(\"model_v5.weights.h5\")"
   ]
  },
  {
   "cell_type": "code",
   "execution_count": 9,
   "id": "ff33ccce-e749-4c86-bbf6-6e115cd54107",
   "metadata": {},
   "outputs": [],
   "source": [
    "classnames = ['fall_armyworm','grasshoper','healthy','leaf_beetle','leaf_blight','leaf_spot','streak_virus']"
   ]
  },
  {
   "cell_type": "code",
   "execution_count": 15,
   "id": "a9918825-623d-460b-bbe9-4b9b42262387",
   "metadata": {},
   "outputs": [
    {
     "name": "stdout",
     "output_type": "stream",
     "text": [
      "\u001b[1m1/1\u001b[0m \u001b[32m━━━━━━━━━━━━━━━━━━━━\u001b[0m\u001b[37m\u001b[0m \u001b[1m0s\u001b[0m 472ms/step\n"
     ]
    },
    {
     "data": {
      "text/plain": [
       "'healthy'"
      ]
     },
     "execution_count": 15,
     "metadata": {},
     "output_type": "execute_result"
    }
   ],
   "source": [
    "# Load an image\n",
    "img = image.load_img('../raw/healthy/healthy102_.jpg', target_size=(224, 224))\n",
    "img_array = image.img_to_array(img)\n",
    "img_array = tf.expand_dims(img_array, 0)  # Create a batch\n",
    "\n",
    "predictions = model.predict(img_array)\n",
    "predicted_class = np.argmax(predictions, axis=1)[0]\n",
    "classnames[predicted_class]"
   ]
  },
  {
   "cell_type": "code",
   "execution_count": null,
   "id": "9c0c68a6-d721-4a2b-9fef-d0924c96fcd8",
   "metadata": {},
   "outputs": [],
   "source": []
  }
 ],
 "metadata": {
  "kernelspec": {
   "display_name": "Python 3 (ipykernel)",
   "language": "python",
   "name": "python3"
  },
  "language_info": {
   "codemirror_mode": {
    "name": "ipython",
    "version": 3
   },
   "file_extension": ".py",
   "mimetype": "text/x-python",
   "name": "python",
   "nbconvert_exporter": "python",
   "pygments_lexer": "ipython3",
   "version": "3.10.12"
  }
 },
 "nbformat": 4,
 "nbformat_minor": 5
}
