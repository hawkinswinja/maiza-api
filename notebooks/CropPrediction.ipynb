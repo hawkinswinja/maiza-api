{
 "cells": [
  {
   "cell_type": "code",
   "execution_count": 3,
   "id": "6096fb03-01ea-48b6-8545-b4c9bb5343bd",
   "metadata": {},
   "outputs": [
    {
     "name": "stdout",
     "output_type": "stream",
     "text": [
      "\u001b[31mERROR: Introspect error on :1.111:/modules/kwalletd5: dbus.exceptions.DBusException: org.freedesktop.DBus.Error.NoReply: Message recipient disconnected from message bus without replying\u001b[0m\n",
      "\u001b[33mWARNING: Keyring is skipped due to an exception: Failed to open keyring: org.freedesktop.DBus.Error.ServiceUnknown: The name :1.111 was not provided by any .service files.\u001b[0m\n",
      "Collecting pandas\n",
      "  Downloading pandas-2.2.2-cp39-cp39-manylinux_2_17_x86_64.manylinux2014_x86_64.whl (13.1 MB)\n",
      "\u001b[K     |████████████████████████████████| 13.1 MB 2.9 MB/s eta 0:00:01    |█████▌                          | 2.3 MB 764 kB/s eta 0:00:15     |█████▉                          | 2.4 MB 764 kB/s eta 0:00:15     |████████                        | 3.2 MB 1.2 MB/s eta 0:00:09     |█████████████▍                  | 5.5 MB 1.8 MB/s eta 0:00:05     |████████████████████▉           | 8.5 MB 2.3 MB/s eta 0:00:02     |████████████████████████████▉   | 11.8 MB 2.6 MB/s eta 0:00:01\n",
      "\u001b[?25hRequirement already satisfied: python-dateutil>=2.8.2 in ./.local/lib/python3.9/site-packages (from pandas) (2.9.0.post0)\n",
      "Collecting tzdata>=2022.7\n",
      "  Downloading tzdata-2024.1-py2.py3-none-any.whl (345 kB)\n",
      "\u001b[K     |████████████████████████████████| 345 kB 3.1 MB/s eta 0:00:01\n",
      "\u001b[?25hRequirement already satisfied: pytz>=2020.1 in /usr/lib/python3/dist-packages (from pandas) (2021.1)\n",
      "Collecting numpy>=1.22.4\n",
      "  Downloading numpy-1.26.4-cp39-cp39-manylinux_2_17_x86_64.manylinux2014_x86_64.whl (18.2 MB)\n",
      "\u001b[K     |████████████████████████████████| 18.2 MB 783 kB/s eta 0:00:01    |█▊                              | 993 kB 3.2 MB/s eta 0:00:06     |████████▋                       | 4.9 MB 800 kB/s eta 0:00:17\n",
      "\u001b[?25hRequirement already satisfied: six>=1.5 in /usr/lib/python3/dist-packages (from python-dateutil>=2.8.2->pandas) (1.16.0)\n",
      "Installing collected packages: tzdata, numpy, pandas\n",
      "Successfully installed numpy-1.26.4 pandas-2.2.2 tzdata-2024.1\n",
      "Note: you may need to restart the kernel to use updated packages.\n"
     ]
    }
   ],
   "source": [
    "pip install pandas\n"
   ]
  },
  {
   "cell_type": "code",
   "execution_count": 4,
   "id": "cec4b16a-ebe1-450a-a7ad-8607d68ffced",
   "metadata": {},
   "outputs": [
    {
     "name": "stdout",
     "output_type": "stream",
     "text": [
      "\u001b[31mERROR: Introspect error on :1.121:/modules/kwalletd5: dbus.exceptions.DBusException: org.freedesktop.DBus.Error.NoReply: Message recipient disconnected from message bus without replying\u001b[0m\n",
      "\u001b[33mWARNING: Keyring is skipped due to an exception: Failed to open keyring: org.freedesktop.DBus.Error.ServiceUnknown: The name :1.121 was not provided by any .service files.\u001b[0m\n",
      "Collecting scikit-learn\n",
      "  Downloading scikit_learn-1.4.2-cp39-cp39-manylinux_2_17_x86_64.manylinux2014_x86_64.whl (12.2 MB)\n",
      "\u001b[K     |████████████████████████████████| 12.2 MB 42 kB/s  eta 0:00:01    |████████▊                       | 3.3 MB 1.7 MB/s eta 0:00:06     |████████████████▏               | 6.1 MB 2.0 MB/s eta 0:00:04     |██████████████████████▌         | 8.6 MB 1.6 MB/s eta 0:00:03     |████████████████████████        | 9.1 MB 1.6 MB/s eta 0:00:02\n",
      "\u001b[?25hCollecting threadpoolctl>=2.0.0\n",
      "  Downloading threadpoolctl-3.4.0-py3-none-any.whl (17 kB)\n",
      "Collecting joblib>=1.2.0\n",
      "  Downloading joblib-1.4.0-py3-none-any.whl (301 kB)\n",
      "\u001b[K     |████████████████████████████████| 301 kB 2.4 MB/s eta 0:00:01\n",
      "\u001b[?25hRequirement already satisfied: scipy>=1.6.0 in /usr/lib/python3/dist-packages (from scikit-learn) (1.6.0)\n",
      "Requirement already satisfied: numpy>=1.19.5 in ./.local/lib/python3.9/site-packages (from scikit-learn) (1.26.4)\n",
      "Installing collected packages: threadpoolctl, joblib, scikit-learn\n",
      "Successfully installed joblib-1.4.0 scikit-learn-1.4.2 threadpoolctl-3.4.0\n",
      "Note: you may need to restart the kernel to use updated packages.\n"
     ]
    }
   ],
   "source": [
    "pip install scikit-learn"
   ]
  },
  {
   "cell_type": "code",
   "execution_count": 6,
   "id": "b20e2be6-aa40-4129-ac27-49135793fd5b",
   "metadata": {},
   "outputs": [
    {
     "name": "stdin",
     "output_type": "stream",
     "text": [
      "Enter temperature:  21\n",
      "Enter humidity:  80\n",
      "Enter pH value:  7\n",
      "Enter rainfall:  200\n"
     ]
    },
    {
     "name": "stdout",
     "output_type": "stream",
     "text": [
      "Crop Recommendation: rice\n"
     ]
    }
   ],
   "source": [
    "import pandas as pd\n",
    "from sklearn.ensemble import RandomForestClassifier\n",
    "\n",
    "# Load the dataset from a CSV file\n",
    "dataset = pd.read_csv('/home/user/Documents/Project/Crop_recommendation.csv')\n",
    "\n",
    "# Split the dataset into features and target variable\n",
    "X = dataset[['temperature', 'humidity', 'ph', 'rainfall']]\n",
    "y = dataset['label']\n",
    "\n",
    "# Train a Random Forest Classifier\n",
    "rf_classifier = RandomForestClassifier(random_state=42)\n",
    "rf_classifier.fit(X, y)\n",
    "\n",
    "# Function to get user input\n",
    "def get_user_input():\n",
    "    temperature = float(input(\"Enter temperature: \"))\n",
    "    humidity = float(input(\"Enter humidity: \"))\n",
    "    ph = float(input(\"Enter pH value: \"))\n",
    "    rainfall = float(input(\"Enter rainfall: \"))\n",
    "    return temperature, humidity, ph, rainfall\n",
    "\n",
    "# Get user input\n",
    "temperature, humidity, ph, rainfall = get_user_input()\n",
    "\n",
    "# Make crop recommendations for the user input\n",
    "new_data = pd.DataFrame([[temperature, humidity, ph, rainfall]], columns=['temperature', 'humidity', 'ph', 'rainfall'])\n",
    "crop_prediction = rf_classifier.predict(new_data)\n",
    "\n",
    "print(\"Crop Recommendation:\", crop_prediction[0])\n"
   ]
  },
  {
   "cell_type": "code",
   "execution_count": 18,
   "id": "8c0d4d1a-6c74-465e-95d2-f2618b6126c4",
   "metadata": {},
   "outputs": [
    {
     "name": "stdin",
     "output_type": "stream",
     "text": [
      "Enter temperature:  21\n",
      "Enter humidity:  50\n",
      "Enter pH value:  6\n",
      "Enter rainfall:  120\n"
     ]
    },
    {
     "name": "stdout",
     "output_type": "stream",
     "text": [
      "Crop Recommendation: pigeonpeas\n"
     ]
    }
   ],
   "source": [
    "import pandas as pd\n",
    "from sklearn.model_selection import train_test_split\n",
    "from sklearn.ensemble import RandomForestClassifier\n",
    "\n",
    "# Load the dataset from a CSV file\n",
    "dataset = pd.read_csv('/home/user/Documents/Project/Crop_recommendation.csv')\n",
    "\n",
    "# Split the dataset into features and target variable\n",
    "X = dataset[['temperature', 'humidity', 'ph', 'rainfall']]\n",
    "y = dataset['label']\n",
    "\n",
    "# Split the dataset into training and test sets\n",
    "X_train, X_test, y_train, y_test = train_test_split(X, y, test_size=0.2, random_state=42)\n",
    "\n",
    "# Train a Random Forest Classifier\n",
    "rf_classifier = RandomForestClassifier(random_state=42)\n",
    "rf_classifier.fit(X_train, y_train)\n",
    "\n",
    "# Function to get user input\n",
    "def get_user_input():\n",
    "    temperature = float(input(\"Enter temperature: \"))\n",
    "    humidity = float(input(\"Enter humidity: \"))\n",
    "    ph = float(input(\"Enter pH value: \"))\n",
    "    rainfall = float(input(\"Enter rainfall: \"))\n",
    "    return temperature, humidity, ph, rainfall\n",
    "\n",
    "# Get user input\n",
    "temperature, humidity, ph, rainfall = get_user_input()\n",
    "\n",
    "# Make crop recommendations for the user input\n",
    "new_data = pd.DataFrame([[temperature, humidity, ph, rainfall]], columns=['temperature', 'humidity', 'ph', 'rainfall'])\n",
    "crop_prediction = rf_classifier.predict(new_data)\n",
    "\n",
    "print(\"Crop Recommendation:\", crop_prediction[0])\n"
   ]
  },
  {
   "cell_type": "code",
   "execution_count": 17,
   "id": "d469a9b7-2859-4d54-a627-6d981985f88c",
   "metadata": {},
   "outputs": [
    {
     "name": "stdin",
     "output_type": "stream",
     "text": [
      "Enter temperature:  21\n",
      "Enter humidity:  50\n",
      "Enter pH value:  6\n",
      "Enter rainfall:  120\n"
     ]
    },
    {
     "name": "stdout",
     "output_type": "stream",
     "text": [
      "Crop Recommendation using Collaborative Filtering: coffee\n",
      "Crop Recommendation using Content-Based Filtering: pigeonpeas\n",
      "Final Crop Recommendation (Hybrid): pigeonpeas\n"
     ]
    }
   ],
   "source": [
    "import pandas as pd\n",
    "from sklearn.model_selection import train_test_split\n",
    "from sklearn.ensemble import RandomForestClassifier\n",
    "from sklearn.metrics.pairwise import cosine_similarity\n",
    "\n",
    "# Load the dataset from a CSV file\n",
    "dataset = pd.read_csv('/home/user/Documents/Project/Crop_recommendation.csv')\n",
    "\n",
    "# Split the dataset into features and target variable\n",
    "X = dataset[['temperature', 'humidity', 'ph', 'rainfall']]\n",
    "y = dataset['label']\n",
    "\n",
    "# Split the dataset into training and test sets\n",
    "X_train, X_test, y_train, y_test = train_test_split(X, y, test_size=0.2, random_state=42)\n",
    "\n",
    "# Train a Random Forest Classifier\n",
    "rf_classifier = RandomForestClassifier(random_state=42)\n",
    "rf_classifier.fit(X_train, y_train)\n",
    "\n",
    "# Function to get user input\n",
    "def get_user_input():\n",
    "    temperature = float(input(\"Enter temperature: \"))\n",
    "    humidity = float(input(\"Enter humidity: \"))\n",
    "    ph = float(input(\"Enter pH value: \"))\n",
    "    rainfall = float(input(\"Enter rainfall: \"))\n",
    "    return temperature, humidity, ph, rainfall\n",
    "\n",
    "# Get user input\n",
    "temperature, humidity, ph, rainfall = get_user_input()\n",
    "\n",
    "# Make crop recommendations using collaborative filtering\n",
    "# For example, you could calculate cosine similarity between the user input and each sample in the dataset\n",
    "user_input = [temperature, humidity, ph, rainfall]\n",
    "dataset_features = dataset[['temperature', 'humidity', 'ph', 'rainfall']]\n",
    "similarities = cosine_similarity([user_input], dataset_features)\n",
    "\n",
    "# Find the most similar sample(s) in the dataset\n",
    "most_similar_index = similarities.argmax()\n",
    "crop_recommendation = dataset.loc[most_similar_index, 'label']\n",
    "\n",
    "print(\"Crop Recommendation using Collaborative Filtering:\", crop_recommendation)\n",
    "\n",
    "# Make crop recommendations using content-based filtering\n",
    "new_data = pd.DataFrame([[temperature, humidity, ph, rainfall]], columns=['temperature', 'humidity', 'ph', 'rainfall'])\n",
    "crop_prediction = rf_classifier.predict(new_data)\n",
    "\n",
    "print(\"Crop Recommendation using Content-Based Filtering:\", crop_prediction[0])\n",
    "\n",
    "# Hybrid approach: You can combine the recommendations from both approaches to get a final recommendation\n",
    "# For example, you could weigh the recommendations based on their confidence levels\n",
    "final_recommendation = crop_prediction[0]  # For simplicity, just using content-based recommendation\n",
    "print(\"Final Crop Recommendation (Hybrid):\", final_recommendation)\n"
   ]
  },
  {
   "cell_type": "code",
   "execution_count": 14,
   "id": "f8269322-df5f-4f4d-9aaf-2609dec6518b",
   "metadata": {},
   "outputs": [
    {
     "name": "stdin",
     "output_type": "stream",
     "text": [
      "Enter temperature:  21\n",
      "Enter humidity:  35\n",
      "Enter pH value:  6\n",
      "Enter rainfall:  160\n"
     ]
    },
    {
     "name": "stdout",
     "output_type": "stream",
     "text": [
      "Most Similar Sample: pigeonpeas\n",
      "KNN Recommendation based on Most Similar Sample: pigeonpeas\n",
      "Content-Based Recommendation: pigeonpeas\n",
      "Final Crop Recommendation (Hybrid): pigeonpeas\n"
     ]
    },
    {
     "name": "stderr",
     "output_type": "stream",
     "text": [
      "/home/user/.local/lib/python3.9/site-packages/sklearn/base.py:493: UserWarning: X does not have valid feature names, but KNeighborsClassifier was fitted with feature names\n",
      "  warnings.warn(\n"
     ]
    }
   ],
   "source": [
    "import pandas as pd\n",
    "from sklearn.model_selection import train_test_split\n",
    "from sklearn.ensemble import RandomForestClassifier\n",
    "from sklearn.metrics.pairwise import cosine_similarity\n",
    "from sklearn.neighbors import KNeighborsClassifier\n",
    "\n",
    "# Load the dataset from a CSV file\n",
    "dataset = pd.read_csv('/home/user/Documents/Project/Crop_recommendation.csv')\n",
    "\n",
    "# Split the dataset into features and target variable\n",
    "X = dataset[['temperature', 'humidity', 'ph', 'rainfall']]\n",
    "y = dataset['label']\n",
    "\n",
    "# Split the dataset into training and test sets\n",
    "X_train, X_test, y_train, y_test = train_test_split(X, y, test_size=0.2, random_state=42)\n",
    "\n",
    "# Train a Random Forest Classifier\n",
    "rf_classifier = RandomForestClassifier(random_state=42)\n",
    "rf_classifier.fit(X_train, y_train)\n",
    "\n",
    "# Function to get user input\n",
    "def get_user_input():\n",
    "    temperature = float(input(\"Enter temperature: \"))\n",
    "    humidity = float(input(\"Enter humidity: \"))\n",
    "    ph = float(input(\"Enter pH value: \"))\n",
    "    rainfall = float(input(\"Enter rainfall: \"))\n",
    "    return temperature, humidity, ph, rainfall\n",
    "\n",
    "# Get user input\n",
    "temperature, humidity, ph, rainfall = get_user_input()\n",
    "\n",
    "# Make crop recommendations using collaborative filtering\n",
    "user_input = [temperature, humidity, ph, rainfall]\n",
    "dataset_features = dataset[['temperature', 'humidity', 'ph', 'rainfall']]\n",
    "similarities = cosine_similarity([user_input], dataset_features)\n",
    "\n",
    "# Find the most similar sample(s) in the dataset\n",
    "most_similar_index = similarities.argmax()\n",
    "most_similar_sample = dataset.iloc[most_similar_index]\n",
    "\n",
    "# Remove the 'label' column from most_similar_sample\n",
    "most_similar_sample_features = most_similar_sample[['temperature', 'humidity', 'ph', 'rainfall']]\n",
    "\n",
    "# Use KNN to find the k-nearest neighbors of the most similar sample(s)\n",
    "knn_classifier = KNeighborsClassifier(n_neighbors=5)\n",
    "knn_classifier.fit(X_train, y_train)\n",
    "\n",
    "\n",
    "# Get the indices of the k-nearest neighbors\n",
    "k_nearest_indices = knn_classifier.kneighbors([most_similar_sample_features])[1][0]\n",
    "\n",
    "# Make crop recommendations using content-based filtering\n",
    "new_data = pd.DataFrame([[temperature, humidity, ph, rainfall]], columns=['temperature', 'humidity', 'ph', 'rainfall'])\n",
    "content_based_recommendation = rf_classifier.predict(new_data)[0]\n",
    "\n",
    "# Use the k-nearest neighbors to refine the recommendation\n",
    "knn_recommendation = y_train.iloc[k_nearest_indices].mode()[0]\n",
    "\n",
    "print(\"Most Similar Sample:\", most_similar_sample['label'])\n",
    "print(\"KNN Recommendation based on Most Similar Sample:\", knn_recommendation)\n",
    "print(\"Content-Based Recommendation:\", content_based_recommendation)\n",
    "\n",
    "# Hybrid approach: Combine the recommendations from both approaches\n",
    "# For example, you could use a voting mechanism\n",
    "final_recommendation = knn_recommendation  # For simplicity, using only KNN recommendation\n",
    "print(\"Final Crop Recommendation (Hybrid):\", final_recommendation)\n"
   ]
  },
  {
   "cell_type": "code",
   "execution_count": 16,
   "id": "396c3ba2-f1d3-4819-af45-2cc0678fc73a",
   "metadata": {},
   "outputs": [
    {
     "name": "stdin",
     "output_type": "stream",
     "text": [
      "Enter temperature:  21\n",
      "Enter humidity:  50\n",
      "Enter pH value:  6\n",
      "Enter rainfall:  120\n",
      "Enter soil type:  Sand\n",
      "Enter crops grown (comma-separated):  Beans,Peas\n"
     ]
    },
    {
     "name": "stdout",
     "output_type": "stream",
     "text": [
      "Crop Recommendation using Collaborative Filtering: coffee\n",
      "Crop Recommendation using Content-Based Filtering: pigeonpeas\n",
      "Final Crop Recommendation (Hybrid): pigeonpeas\n"
     ]
    }
   ],
   "source": [
    "import pandas as pd\n",
    "from sklearn.model_selection import train_test_split\n",
    "from sklearn.ensemble import RandomForestClassifier\n",
    "from sklearn.metrics.pairwise import cosine_similarity\n",
    "\n",
    "# Load the dataset from a CSV file\n",
    "dataset = pd.read_csv('/home/user/Documents/Project/Crop_recommendation.csv')\n",
    "\n",
    "# Split the dataset into features and target variable\n",
    "X = dataset[['temperature', 'humidity', 'ph', 'rainfall']]\n",
    "y = dataset['label']\n",
    "\n",
    "# Split the dataset into training and test sets\n",
    "X_train, X_test, y_train, y_test = train_test_split(X, y, test_size=0.2, random_state=42)\n",
    "\n",
    "# Train a Random Forest Classifier\n",
    "rf_classifier = RandomForestClassifier(random_state=42)\n",
    "rf_classifier.fit(X_train, y_train)\n",
    "\n",
    "# Function to get user input\n",
    "def get_user_input():\n",
    "    temperature = float(input(\"Enter temperature: \"))\n",
    "    humidity = float(input(\"Enter humidity: \"))\n",
    "    ph = float(input(\"Enter pH value: \"))\n",
    "    rainfall = float(input(\"Enter rainfall: \"))\n",
    "    soil_type = input(\"Enter soil type: \")\n",
    "    crops_grown = input(\"Enter crops grown (comma-separated): \")\n",
    "    return temperature, humidity, ph, rainfall, soil_type, crops_grown\n",
    "\n",
    "# Get user input\n",
    "temperature, humidity, ph, rainfall, soil_type, crops_grown = get_user_input()\n",
    "\n",
    "# Make crop recommendations using collaborative filtering\n",
    "# For example, you could calculate cosine similarity between the user input and each sample in the dataset\n",
    "user_input = [temperature, humidity, ph, rainfall]\n",
    "dataset_features = dataset[['temperature', 'humidity', 'ph', 'rainfall']]\n",
    "similarities = cosine_similarity([user_input], dataset_features)\n",
    "\n",
    "# Find the most similar sample(s) in the dataset\n",
    "most_similar_index = similarities.argmax()\n",
    "crop_recommendation_collaborative = dataset.loc[most_similar_index, 'label']\n",
    "\n",
    "print(\"Crop Recommendation using Collaborative Filtering:\", crop_recommendation_collaborative)\n",
    "\n",
    "# Make crop recommendations using content-based filtering\n",
    "new_data = pd.DataFrame([[temperature, humidity, ph, rainfall]], columns=['temperature', 'humidity', 'ph', 'rainfall'])\n",
    "crop_prediction_content_based = rf_classifier.predict(new_data)\n",
    "\n",
    "print(\"Crop Recommendation using Content-Based Filtering:\", crop_prediction_content_based[0])\n",
    "\n",
    "# Hybrid approach: You can combine the recommendations from both approaches to get a final recommendation\n",
    "# For example, you could weigh the recommendations based on their confidence levels\n",
    "final_recommendation = crop_prediction_content_based[0]  # For simplicity, just using content-based recommendation\n",
    "print(\"Final Crop Recommendation (Hybrid):\", final_recommendation)\n"
   ]
  },
  {
   "cell_type": "code",
   "execution_count": null,
   "id": "6fce4885-da77-4823-93d1-f221d491f17a",
   "metadata": {},
   "outputs": [],
   "source": []
  },
  {
   "cell_type": "code",
   "execution_count": 23,
   "id": "c1911fa4-39cf-4ddf-be69-1cf8fd64fa61",
   "metadata": {},
   "outputs": [
    {
     "name": "stdin",
     "output_type": "stream",
     "text": [
      "Enter temperature:  36\n",
      "Enter humidity:  70\n",
      "Enter pH value:  7\n",
      "Enter rainfall:  128\n",
      "Enter soil type:  Sand\n",
      "Enter crops grown (comma-separated):  Maize,Beans\n"
     ]
    },
    {
     "name": "stdout",
     "output_type": "stream",
     "text": [
      "Crop Recommendation using Collaborative Filtering: mango\n",
      "Crop Recommendation using Content-Based Filtering: pigeonpeas\n",
      "Final Crop Recommendation (Hybrid): pigeonpeas\n"
     ]
    }
   ],
   "source": [
    "# Import libraries\n",
    "import pandas as pd\n",
    "from sklearn.model_selection import train_test_split\n",
    "from sklearn.ensemble import RandomForestClassifier\n",
    "from sklearn.metrics.pairwise import cosine_similarity\n",
    "\n",
    "# Load the dataset from a CSV file\n",
    "dataset = pd.read_csv('/home/user/Documents/Project/Crop_recommendation.csv')\n",
    "\n",
    "# Split the dataset into features and target variable\n",
    "X = dataset[['temperature', 'humidity', 'ph', 'rainfall']]\n",
    "y = dataset['label']\n",
    "\n",
    "# Split the dataset into training and test sets\n",
    "X_train, X_test, y_train, y_test = train_test_split(X, y, test_size=0.2, random_state=42)\n",
    "\n",
    "# Train a Random Forest Classifier\n",
    "rf_classifier = RandomForestClassifier(random_state=42)\n",
    "rf_classifier.fit(X_train, y_train)\n",
    "\n",
    "# Function to get user input\n",
    "def get_user_input():\n",
    "    temperature = float(input(\"Enter temperature: \"))\n",
    "    humidity = float(input(\"Enter humidity: \"))\n",
    "    ph = float(input(\"Enter pH value: \"))\n",
    "    rainfall = float(input(\"Enter rainfall: \"))\n",
    "    soil_type = input(\"Enter soil type: \")\n",
    "    crops_grown = input(\"Enter crops grown (comma-separated): \")\n",
    "    return temperature, humidity, ph, rainfall, soil_type, crops_grown\n",
    "\n",
    "# Get user input\n",
    "temperature, humidity, ph, rainfall, soil_type, crops_grown = get_user_input()\n",
    "\n",
    "# Make crop recommendations using collaborative filtering\n",
    "user_input = [temperature, humidity, ph, rainfall]\n",
    "dataset_features = dataset[['temperature', 'humidity', 'ph', 'rainfall']]\n",
    "similarities = cosine_similarity([user_input], dataset_features)\n",
    "\n",
    "# Find the most similar sample(s) in the dataset\n",
    "most_similar_index = similarities.argmax()\n",
    "crop_recommendation_collaborative = dataset.loc[most_similar_index, 'label']\n",
    "\n",
    "print(\"Crop Recommendation using Collaborative Filtering:\", crop_recommendation_collaborative)\n",
    "\n",
    "# Make crop recommendations using content-based filtering\n",
    "new_data = pd.DataFrame([[temperature, humidity, ph, rainfall]], columns=['temperature', 'humidity', 'ph', 'rainfall'])\n",
    "crop_prediction_content_based = rf_classifier.predict(new_data)\n",
    "\n",
    "print(\"Crop Recommendation using Content-Based Filtering:\", crop_prediction_content_based[0])\n",
    "\n",
    "# Hybrid approach: Combine the recommendations from both approaches based on soil type and crops grown\n",
    "# For example, you could weigh the recommendations based on their confidence levels\n",
    "# Here, we simply use the content-based recommendation if the crops grown match, otherwise, we use the collaborative recommendation\n",
    "if crop_recommendation_collaborative == crop_prediction_content_based[0]:\n",
    "    final_recommendation = crop_recommendation_collaborative\n",
    "else:\n",
    "    final_recommendation = crop_prediction_content_based[0]\n",
    "\n",
    "print(\"Final Crop Recommendation (Hybrid):\", final_recommendation)\n"
   ]
  },
  {
   "cell_type": "code",
   "execution_count": null,
   "id": "54e7a696-b3ca-4431-a002-29247f629326",
   "metadata": {},
   "outputs": [
    {
     "name": "stdin",
     "output_type": "stream",
     "text": [
      "Enter your location (city, country):  kisumu\n",
      "Enter pH value:  6\n",
      "Enter rainfall:  150\n",
      "Enter soil type:  loam\n"
     ]
    }
   ],
   "source": [
    "import pandas as pd\n",
    "from sklearn.model_selection import train_test_split\n",
    "from sklearn.ensemble import RandomForestClassifier\n",
    "from sklearn.metrics.pairwise import cosine_similarity\n",
    "import requests\n",
    "\n",
    "# Load the dataset from a CSV file\n",
    "dataset = pd.read_csv('Crop_recommendation.csv')\n",
    "\n",
    "# Split the dataset into features and target variable\n",
    "X = dataset[['temperature', 'humidity', 'ph', 'rainfall']]\n",
    "y = dataset['label']\n",
    "\n",
    "# Split the dataset into training and test sets\n",
    "X_train, X_test, y_train, y_test = train_test_split(X, y, test_size=0.2, random_state=42)\n",
    "\n",
    "# Train a Random Forest Classifier\n",
    "rf_classifier = RandomForestClassifier(random_state=42)\n",
    "rf_classifier.fit(X_train, y_train)\n",
    "\n",
    "# Function to get user input\n",
    "def get_user_input():\n",
    "    location = input(\"Enter your location (city, country): \")\n",
    "    api_key = '09d4206d94c98b8a083cb6fb75d4a1a7'  # Replace 'your_api_key_here' with your OpenWeather API key\n",
    "    url = f'http://api.openweathermap.org/data/2.5/weather?q={location}&appid={api_key}'\n",
    "    response = requests.get(url)\n",
    "    weather_data = response.json()\n",
    "    temperature = weather_data['main']['temp']\n",
    "    humidity = weather_data['main']['humidity']\n",
    "    ph = float(input(\"Enter pH value: \"))\n",
    "    rainfall = float(input(\"Enter rainfall: \"))\n",
    "    soil_type = input(\"Enter soil type: \")\n",
    "    crops_grown = input(\"Enter crops grown (comma-separated): \")\n",
    "    return temperature, humidity, ph, rainfall, soil_type, crops_grown\n",
    "\n",
    "# Get user input\n",
    "temperature, humidity, ph, rainfall, soil_type, crops_grown = get_user_input()\n",
    "\n",
    "# Make crop recommendations using collaborative filtering\n",
    "user_input = [temperature, humidity, ph, rainfall]\n",
    "dataset_features = dataset[['temperature', 'humidity', 'ph', 'rainfall']]\n",
    "similarities = cosine_similarity([user_input], dataset_features)\n",
    "\n",
    "# Find the most similar sample(s) in the dataset\n",
    "most_similar_index = similarities.argmax()\n",
    "crop_recommendation_collaborative = dataset.loc[most_similar_index, 'label']\n",
    "\n",
    "print(\"Crop Recommendation using Collaborative Filtering:\", crop_recommendation_collaborative)\n",
    "\n",
    "# Make crop recommendations using content-based filtering\n",
    "new_data = pd.DataFrame([[temperature, humidity, ph, rainfall]], columns=['temperature', 'humidity', 'ph', 'rainfall'])\n",
    "crop_prediction_content_based = rf_classifier.predict(new_data)\n",
    "\n",
    "print(\"Crop Recommendation using Content-Based Filtering:\", crop_prediction_content_based[0])\n",
    "\n",
    "# Hybrid approach: You can combine the recommendations from both approaches based on soil type and crops grown\n",
    "# For example, you could weigh the recommendations based on their confidence levels\n",
    "# Here, we simply use the content-based recommendation if the crops grown match, otherwise, we use the collaborative recommendation\n",
    "if crop_recommendation_collaborative == crop_prediction_content_based[0]:\n",
    "    final_recommendation = crop_recommendation_collaborative\n",
    "else:\n",
    "    final_recommendation = crop_prediction_content_based[0]\n",
    "\n",
    "print(\"Final Crop Recommendation (Hybrid):\", final_recommendation)\n"
   ]
  },
  {
   "cell_type": "code",
   "execution_count": null,
   "id": "dc52c3dd-b108-48b9-9418-ed7d44983f0b",
   "metadata": {},
   "outputs": [],
   "source": []
  }
 ],
 "metadata": {
  "kernelspec": {
   "display_name": "Python 3 (ipykernel)",
   "language": "python",
   "name": "python3"
  },
  "language_info": {
   "codemirror_mode": {
    "name": "ipython",
    "version": 3
   },
   "file_extension": ".py",
   "mimetype": "text/x-python",
   "name": "python",
   "nbconvert_exporter": "python",
   "pygments_lexer": "ipython3",
   "version": "3.10.12"
  }
 },
 "nbformat": 4,
 "nbformat_minor": 5
}
